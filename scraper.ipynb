{
 "cells": [
  {
   "cell_type": "code",
   "execution_count": 5,
   "metadata": {
    "scrolled": true
   },
   "outputs": [],
   "source": [
    "import requests\n",
    "from requests import get\n",
    "from bs4 import BeautifulSoup\n",
    "from selenium import webdriver\n",
    "import pandas as pd\n",
    "import numpy as np\n",
    "from time import sleep\n",
    "from random import randint"
   ]
  },
  {
   "cell_type": "code",
   "execution_count": 6,
   "metadata": {},
   "outputs": [
    {
     "ename": "InvalidArgumentException",
     "evalue": "Message: invalid argument: 'value' must be a string\n  (Session info: chrome=90.0.4430.212)\n",
     "output_type": "error",
     "traceback": [
      "\u001b[1;31m---------------------------------------------------------------------------\u001b[0m",
      "\u001b[1;31mInvalidArgumentException\u001b[0m                  Traceback (most recent call last)",
      "\u001b[1;32m<ipython-input-6-eb6fe4e229ed>\u001b[0m in \u001b[0;36m<module>\u001b[1;34m\u001b[0m\n\u001b[0;32m     13\u001b[0m             \u001b[0mcount\u001b[0m\u001b[1;33m+=\u001b[0m\u001b[1;36m1\u001b[0m\u001b[1;33m\u001b[0m\u001b[1;33m\u001b[0m\u001b[0m\n\u001b[0;32m     14\u001b[0m         \u001b[0mnum\u001b[0m\u001b[1;33m+=\u001b[0m\u001b[1;36m1\u001b[0m\u001b[1;33m\u001b[0m\u001b[1;33m\u001b[0m\u001b[0m\n\u001b[1;32m---> 15\u001b[1;33m     \u001b[0mdriver\u001b[0m\u001b[1;33m.\u001b[0m\u001b[0mfind_element_by_link_text\u001b[0m\u001b[1;33m(\u001b[0m\u001b[0mi\u001b[0m\u001b[1;33m+\u001b[0m\u001b[1;36m1\u001b[0m\u001b[1;33m)\u001b[0m\u001b[1;33m.\u001b[0m\u001b[0mclick\u001b[0m\u001b[1;33m(\u001b[0m\u001b[1;33m)\u001b[0m\u001b[1;33m\u001b[0m\u001b[1;33m\u001b[0m\u001b[0m\n\u001b[0m\u001b[0;32m     16\u001b[0m \u001b[0mprint\u001b[0m\u001b[1;33m(\u001b[0m\u001b[0murls_collected\u001b[0m\u001b[1;33m)\u001b[0m\u001b[1;33m\u001b[0m\u001b[1;33m\u001b[0m\u001b[0m\n\u001b[0;32m     17\u001b[0m \u001b[0mprint\u001b[0m\u001b[1;33m(\u001b[0m\u001b[0mcount\u001b[0m\u001b[1;33m)\u001b[0m\u001b[1;33m\u001b[0m\u001b[1;33m\u001b[0m\u001b[0m\n",
      "\u001b[1;32m~\\anaconda3\\lib\\site-packages\\selenium\\webdriver\\remote\\webdriver.py\u001b[0m in \u001b[0;36mfind_element_by_link_text\u001b[1;34m(self, link_text)\u001b[0m\n\u001b[0;32m    426\u001b[0m             \u001b[0melement\u001b[0m \u001b[1;33m=\u001b[0m \u001b[0mdriver\u001b[0m\u001b[1;33m.\u001b[0m\u001b[0mfind_element_by_link_text\u001b[0m\u001b[1;33m(\u001b[0m\u001b[1;34m'Sign In'\u001b[0m\u001b[1;33m)\u001b[0m\u001b[1;33m\u001b[0m\u001b[1;33m\u001b[0m\u001b[0m\n\u001b[0;32m    427\u001b[0m         \"\"\"\n\u001b[1;32m--> 428\u001b[1;33m         \u001b[1;32mreturn\u001b[0m \u001b[0mself\u001b[0m\u001b[1;33m.\u001b[0m\u001b[0mfind_element\u001b[0m\u001b[1;33m(\u001b[0m\u001b[0mby\u001b[0m\u001b[1;33m=\u001b[0m\u001b[0mBy\u001b[0m\u001b[1;33m.\u001b[0m\u001b[0mLINK_TEXT\u001b[0m\u001b[1;33m,\u001b[0m \u001b[0mvalue\u001b[0m\u001b[1;33m=\u001b[0m\u001b[0mlink_text\u001b[0m\u001b[1;33m)\u001b[0m\u001b[1;33m\u001b[0m\u001b[1;33m\u001b[0m\u001b[0m\n\u001b[0m\u001b[0;32m    429\u001b[0m \u001b[1;33m\u001b[0m\u001b[0m\n\u001b[0;32m    430\u001b[0m     \u001b[1;32mdef\u001b[0m \u001b[0mfind_elements_by_link_text\u001b[0m\u001b[1;33m(\u001b[0m\u001b[0mself\u001b[0m\u001b[1;33m,\u001b[0m \u001b[0mtext\u001b[0m\u001b[1;33m)\u001b[0m\u001b[1;33m:\u001b[0m\u001b[1;33m\u001b[0m\u001b[1;33m\u001b[0m\u001b[0m\n",
      "\u001b[1;32m~\\anaconda3\\lib\\site-packages\\selenium\\webdriver\\remote\\webdriver.py\u001b[0m in \u001b[0;36mfind_element\u001b[1;34m(self, by, value)\u001b[0m\n\u001b[0;32m    974\u001b[0m                 \u001b[0mby\u001b[0m \u001b[1;33m=\u001b[0m \u001b[0mBy\u001b[0m\u001b[1;33m.\u001b[0m\u001b[0mCSS_SELECTOR\u001b[0m\u001b[1;33m\u001b[0m\u001b[1;33m\u001b[0m\u001b[0m\n\u001b[0;32m    975\u001b[0m                 \u001b[0mvalue\u001b[0m \u001b[1;33m=\u001b[0m \u001b[1;34m'[name=\"%s\"]'\u001b[0m \u001b[1;33m%\u001b[0m \u001b[0mvalue\u001b[0m\u001b[1;33m\u001b[0m\u001b[1;33m\u001b[0m\u001b[0m\n\u001b[1;32m--> 976\u001b[1;33m         return self.execute(Command.FIND_ELEMENT, {\n\u001b[0m\u001b[0;32m    977\u001b[0m             \u001b[1;34m'using'\u001b[0m\u001b[1;33m:\u001b[0m \u001b[0mby\u001b[0m\u001b[1;33m,\u001b[0m\u001b[1;33m\u001b[0m\u001b[1;33m\u001b[0m\u001b[0m\n\u001b[0;32m    978\u001b[0m             'value': value})['value']\n",
      "\u001b[1;32m~\\anaconda3\\lib\\site-packages\\selenium\\webdriver\\remote\\webdriver.py\u001b[0m in \u001b[0;36mexecute\u001b[1;34m(self, driver_command, params)\u001b[0m\n\u001b[0;32m    319\u001b[0m         \u001b[0mresponse\u001b[0m \u001b[1;33m=\u001b[0m \u001b[0mself\u001b[0m\u001b[1;33m.\u001b[0m\u001b[0mcommand_executor\u001b[0m\u001b[1;33m.\u001b[0m\u001b[0mexecute\u001b[0m\u001b[1;33m(\u001b[0m\u001b[0mdriver_command\u001b[0m\u001b[1;33m,\u001b[0m \u001b[0mparams\u001b[0m\u001b[1;33m)\u001b[0m\u001b[1;33m\u001b[0m\u001b[1;33m\u001b[0m\u001b[0m\n\u001b[0;32m    320\u001b[0m         \u001b[1;32mif\u001b[0m \u001b[0mresponse\u001b[0m\u001b[1;33m:\u001b[0m\u001b[1;33m\u001b[0m\u001b[1;33m\u001b[0m\u001b[0m\n\u001b[1;32m--> 321\u001b[1;33m             \u001b[0mself\u001b[0m\u001b[1;33m.\u001b[0m\u001b[0merror_handler\u001b[0m\u001b[1;33m.\u001b[0m\u001b[0mcheck_response\u001b[0m\u001b[1;33m(\u001b[0m\u001b[0mresponse\u001b[0m\u001b[1;33m)\u001b[0m\u001b[1;33m\u001b[0m\u001b[1;33m\u001b[0m\u001b[0m\n\u001b[0m\u001b[0;32m    322\u001b[0m             response['value'] = self._unwrap_value(\n\u001b[0;32m    323\u001b[0m                 response.get('value', None))\n",
      "\u001b[1;32m~\\anaconda3\\lib\\site-packages\\selenium\\webdriver\\remote\\errorhandler.py\u001b[0m in \u001b[0;36mcheck_response\u001b[1;34m(self, response)\u001b[0m\n\u001b[0;32m    240\u001b[0m                 \u001b[0malert_text\u001b[0m \u001b[1;33m=\u001b[0m \u001b[0mvalue\u001b[0m\u001b[1;33m[\u001b[0m\u001b[1;34m'alert'\u001b[0m\u001b[1;33m]\u001b[0m\u001b[1;33m.\u001b[0m\u001b[0mget\u001b[0m\u001b[1;33m(\u001b[0m\u001b[1;34m'text'\u001b[0m\u001b[1;33m)\u001b[0m\u001b[1;33m\u001b[0m\u001b[1;33m\u001b[0m\u001b[0m\n\u001b[0;32m    241\u001b[0m             \u001b[1;32mraise\u001b[0m \u001b[0mexception_class\u001b[0m\u001b[1;33m(\u001b[0m\u001b[0mmessage\u001b[0m\u001b[1;33m,\u001b[0m \u001b[0mscreen\u001b[0m\u001b[1;33m,\u001b[0m \u001b[0mstacktrace\u001b[0m\u001b[1;33m,\u001b[0m \u001b[0malert_text\u001b[0m\u001b[1;33m)\u001b[0m\u001b[1;33m\u001b[0m\u001b[1;33m\u001b[0m\u001b[0m\n\u001b[1;32m--> 242\u001b[1;33m         \u001b[1;32mraise\u001b[0m \u001b[0mexception_class\u001b[0m\u001b[1;33m(\u001b[0m\u001b[0mmessage\u001b[0m\u001b[1;33m,\u001b[0m \u001b[0mscreen\u001b[0m\u001b[1;33m,\u001b[0m \u001b[0mstacktrace\u001b[0m\u001b[1;33m)\u001b[0m\u001b[1;33m\u001b[0m\u001b[1;33m\u001b[0m\u001b[0m\n\u001b[0m\u001b[0;32m    243\u001b[0m \u001b[1;33m\u001b[0m\u001b[0m\n\u001b[0;32m    244\u001b[0m     \u001b[1;32mdef\u001b[0m \u001b[0m_value_or_default\u001b[0m\u001b[1;33m(\u001b[0m\u001b[0mself\u001b[0m\u001b[1;33m,\u001b[0m \u001b[0mobj\u001b[0m\u001b[1;33m,\u001b[0m \u001b[0mkey\u001b[0m\u001b[1;33m,\u001b[0m \u001b[0mdefault\u001b[0m\u001b[1;33m)\u001b[0m\u001b[1;33m:\u001b[0m\u001b[1;33m\u001b[0m\u001b[1;33m\u001b[0m\u001b[0m\n",
      "\u001b[1;31mInvalidArgumentException\u001b[0m: Message: invalid argument: 'value' must be a string\n  (Session info: chrome=90.0.4430.212)\n"
     ]
    }
   ],
   "source": [
    "page = \"https://www.malayalachalachithram.com/listsongs.php?g=1414\"\n",
    "driver = webdriver.Chrome()\n",
    "driver.get(page)\n",
    "for i in  range(5):\n",
    "    num = 1\n",
    "    count = 0\n",
    "    urls_collected = []\n",
    "    elements = driver.find_elements_by_xpath(\"//table[@class = 'mdetails']//td/a\") \n",
    "    for element in elements:\n",
    "        if(num%2 != 0):\n",
    "            url = element.get_attribute(\"href\")\n",
    "            urls_collected.append(url)\n",
    "            count+=1\n",
    "        num+=1\n",
    "    driver.find_element_by_link_text(i+1).click()\n",
    "print(urls_collected)\n",
    "print(count)"
   ]
  },
  {
   "cell_type": "code",
   "execution_count": 7,
   "metadata": {},
   "outputs": [
    {
     "name": "stdout",
     "output_type": "stream",
     "text": [
      "177\n",
      "['https://www.malayalachalachithram.com/song.php?i=19674', 'https://www.malayalachalachithram.com/song.php?i=13527', 'https://www.malayalachalachithram.com/song.php?i=17772', 'https://www.malayalachalachithram.com/song.php?i=17112', 'https://www.malayalachalachithram.com/song.php?i=17319', 'https://www.malayalachalachithram.com/song.php?i=17411', 'https://www.malayalachalachithram.com/song.php?i=17477', 'https://www.malayalachalachithram.com/song.php?i=17557', 'https://www.malayalachalachithram.com/song.php?i=17900', 'https://www.malayalachalachithram.com/song.php?i=17901', 'https://www.malayalachalachithram.com/song.php?i=17903', 'https://www.malayalachalachithram.com/song.php?i=17939', 'https://www.malayalachalachithram.com/song.php?i=17942', 'https://www.malayalachalachithram.com/song.php?i=18935', 'https://www.malayalachalachithram.com/song.php?i=18939', 'https://www.malayalachalachithram.com/song.php?i=19300', 'https://www.malayalachalachithram.com/song.php?i=20043', 'https://www.malayalachalachithram.com/song.php?i=19307', 'https://www.malayalachalachithram.com/song.php?i=19035', 'https://www.malayalachalachithram.com/song.php?i=18755', 'https://www.malayalachalachithram.com/song.php?i=19136', 'https://www.malayalachalachithram.com/song.php?i=19137', 'https://www.malayalachalachithram.com/song.php?i=19070', 'https://www.malayalachalachithram.com/song.php?i=19092', 'https://www.malayalachalachithram.com/song.php?i=18616', 'https://www.malayalachalachithram.com/song.php?i=19492', 'https://www.malayalachalachithram.com/song.php?i=19820', 'https://www.malayalachalachithram.com/song.php?i=18942', 'https://www.malayalachalachithram.com/song.php?i=19546', 'https://www.malayalachalachithram.com/song.php?i=19453', 'https://www.malayalachalachithram.com/song.php?i=19674', 'https://www.malayalachalachithram.com/song.php?i=13527', 'https://www.malayalachalachithram.com/song.php?i=17772', 'https://www.malayalachalachithram.com/song.php?i=17112', 'https://www.malayalachalachithram.com/song.php?i=17319', 'https://www.malayalachalachithram.com/song.php?i=17411', 'https://www.malayalachalachithram.com/song.php?i=17477', 'https://www.malayalachalachithram.com/song.php?i=17557', 'https://www.malayalachalachithram.com/song.php?i=17900', 'https://www.malayalachalachithram.com/song.php?i=17901', 'https://www.malayalachalachithram.com/song.php?i=17903', 'https://www.malayalachalachithram.com/song.php?i=17939', 'https://www.malayalachalachithram.com/song.php?i=17942', 'https://www.malayalachalachithram.com/song.php?i=18935', 'https://www.malayalachalachithram.com/song.php?i=18939', 'https://www.malayalachalachithram.com/song.php?i=19300', 'https://www.malayalachalachithram.com/song.php?i=20043', 'https://www.malayalachalachithram.com/song.php?i=19307', 'https://www.malayalachalachithram.com/song.php?i=19035', 'https://www.malayalachalachithram.com/song.php?i=18755', 'https://www.malayalachalachithram.com/song.php?i=19136', 'https://www.malayalachalachithram.com/song.php?i=19137', 'https://www.malayalachalachithram.com/song.php?i=19070', 'https://www.malayalachalachithram.com/song.php?i=19092', 'https://www.malayalachalachithram.com/song.php?i=18616', 'https://www.malayalachalachithram.com/song.php?i=19492', 'https://www.malayalachalachithram.com/song.php?i=19820', 'https://www.malayalachalachithram.com/song.php?i=18942', 'https://www.malayalachalachithram.com/song.php?i=19546', 'https://www.malayalachalachithram.com/song.php?i=19453', 'https://www.malayalachalachithram.com/song.php?i=19517', 'https://www.malayalachalachithram.com/song.php?i=19593', 'https://www.malayalachalachithram.com/song.php?i=19681', 'https://www.malayalachalachithram.com/song.php?i=19682', 'https://www.malayalachalachithram.com/song.php?i=19691', 'https://www.malayalachalachithram.com/song.php?i=19970', 'https://www.malayalachalachithram.com/song.php?i=20309', 'https://www.malayalachalachithram.com/song.php?i=20310', 'https://www.malayalachalachithram.com/song.php?i=22164', 'https://www.malayalachalachithram.com/song.php?i=20238', 'https://www.malayalachalachithram.com/song.php?i=23872', 'https://www.malayalachalachithram.com/song.php?i=20281', 'https://www.malayalachalachithram.com/song.php?i=21147', 'https://www.malayalachalachithram.com/song.php?i=20989', 'https://www.malayalachalachithram.com/song.php?i=20505', 'https://www.malayalachalachithram.com/song.php?i=20506', 'https://www.malayalachalachithram.com/song.php?i=20596', 'https://www.malayalachalachithram.com/song.php?i=20708', 'https://www.malayalachalachithram.com/song.php?i=21077', 'https://www.malayalachalachithram.com/song.php?i=21033', 'https://www.malayalachalachithram.com/song.php?i=21034', 'https://www.malayalachalachithram.com/song.php?i=21065', 'https://www.malayalachalachithram.com/song.php?i=21225', 'https://www.malayalachalachithram.com/song.php?i=21245', 'https://www.malayalachalachithram.com/song.php?i=21187', 'https://www.malayalachalachithram.com/song.php?i=21430', 'https://www.malayalachalachithram.com/song.php?i=21541', 'https://www.malayalachalachithram.com/song.php?i=21570', 'https://www.malayalachalachithram.com/song.php?i=21367', 'https://www.malayalachalachithram.com/song.php?i=21379', 'https://www.malayalachalachithram.com/song.php?i=21838', 'https://www.malayalachalachithram.com/song.php?i=21926', 'https://www.malayalachalachithram.com/song.php?i=21953', 'https://www.malayalachalachithram.com/song.php?i=21956', 'https://www.malayalachalachithram.com/song.php?i=21957', 'https://www.malayalachalachithram.com/song.php?i=21586', 'https://www.malayalachalachithram.com/song.php?i=20426', 'https://www.malayalachalachithram.com/song.php?i=21779', 'https://www.malayalachalachithram.com/song.php?i=22465', 'https://www.malayalachalachithram.com/song.php?i=22213', 'https://www.malayalachalachithram.com/song.php?i=22447', 'https://www.malayalachalachithram.com/song.php?i=22448', 'https://www.malayalachalachithram.com/song.php?i=21773', 'https://www.malayalachalachithram.com/song.php?i=21775', 'https://www.malayalachalachithram.com/song.php?i=21867', 'https://www.malayalachalachithram.com/song.php?i=22320', 'https://www.malayalachalachithram.com/song.php?i=22238', 'https://www.malayalachalachithram.com/song.php?i=22069', 'https://www.malayalachalachithram.com/song.php?i=21897', 'https://www.malayalachalachithram.com/song.php?i=21898', 'https://www.malayalachalachithram.com/song.php?i=22542', 'https://www.malayalachalachithram.com/song.php?i=22463', 'https://www.malayalachalachithram.com/song.php?i=22487', 'https://www.malayalachalachithram.com/song.php?i=22416', 'https://www.malayalachalachithram.com/song.php?i=22785', 'https://www.malayalachalachithram.com/song.php?i=22396', 'https://www.malayalachalachithram.com/song.php?i=22648', 'https://www.malayalachalachithram.com/song.php?i=22668', 'https://www.malayalachalachithram.com/song.php?i=22674', 'https://www.malayalachalachithram.com/song.php?i=22678', 'https://www.malayalachalachithram.com/song.php?i=22699', 'https://www.malayalachalachithram.com/song.php?i=23826', 'https://www.malayalachalachithram.com/song.php?i=22675', 'https://www.malayalachalachithram.com/song.php?i=22659', 'https://www.malayalachalachithram.com/song.php?i=23460', 'https://www.malayalachalachithram.com/song.php?i=23461', 'https://www.malayalachalachithram.com/song.php?i=22791', 'https://www.malayalachalachithram.com/song.php?i=22903', 'https://www.malayalachalachithram.com/song.php?i=22907', 'https://www.malayalachalachithram.com/song.php?i=22999', 'https://www.malayalachalachithram.com/song.php?i=23038', 'https://www.malayalachalachithram.com/song.php?i=23092', 'https://www.malayalachalachithram.com/song.php?i=23150', 'https://www.malayalachalachithram.com/song.php?i=23152', 'https://www.malayalachalachithram.com/song.php?i=23186', 'https://www.malayalachalachithram.com/song.php?i=23326', 'https://www.malayalachalachithram.com/song.php?i=23426', 'https://www.malayalachalachithram.com/song.php?i=23427', 'https://www.malayalachalachithram.com/song.php?i=23417', 'https://www.malayalachalachithram.com/song.php?i=24065', 'https://www.malayalachalachithram.com/song.php?i=23560', 'https://www.malayalachalachithram.com/song.php?i=24085', 'https://www.malayalachalachithram.com/song.php?i=24192', 'https://www.malayalachalachithram.com/song.php?i=23850', 'https://www.malayalachalachithram.com/song.php?i=23851', 'https://www.malayalachalachithram.com/song.php?i=23983', 'https://www.malayalachalachithram.com/song.php?i=24324', 'https://www.malayalachalachithram.com/song.php?i=24429', 'https://www.malayalachalachithram.com/song.php?i=24071', 'https://www.malayalachalachithram.com/song.php?i=24493', 'https://www.malayalachalachithram.com/song.php?i=24784', 'https://www.malayalachalachithram.com/song.php?i=24372', 'https://www.malayalachalachithram.com/song.php?i=24244', 'https://www.malayalachalachithram.com/song.php?i=24179', 'https://www.malayalachalachithram.com/song.php?i=24790', 'https://www.malayalachalachithram.com/song.php?i=24858', 'https://www.malayalachalachithram.com/song.php?i=24923', 'https://www.malayalachalachithram.com/song.php?i=24561', 'https://www.malayalachalachithram.com/song.php?i=24285', 'https://www.malayalachalachithram.com/song.php?i=24541', 'https://www.malayalachalachithram.com/song.php?i=24171', 'https://www.malayalachalachithram.com/song.php?i=24997', 'https://www.malayalachalachithram.com/song.php?i=25064', 'https://www.malayalachalachithram.com/song.php?i=24703', 'https://www.malayalachalachithram.com/song.php?i=24202', 'https://www.malayalachalachithram.com/song.php?i=24543', 'https://www.malayalachalachithram.com/song.php?i=24563', 'https://www.malayalachalachithram.com/song.php?i=24674', 'https://www.malayalachalachithram.com/song.php?i=24727', 'https://www.malayalachalachithram.com/song.php?i=24421', 'https://www.malayalachalachithram.com/song.php?i=24745', 'https://www.malayalachalachithram.com/song.php?i=24710', 'https://www.malayalachalachithram.com/song.php?i=24615', 'https://www.malayalachalachithram.com/song.php?i=25003', 'https://www.malayalachalachithram.com/song.php?i=24781', 'https://www.malayalachalachithram.com/song.php?i=24963', 'https://www.malayalachalachithram.com/song.php?i=25011']\n"
     ]
    }
   ],
   "source": [
    "page = \"https://www.malayalachalachithram.com/listsongs.php?g=1414\"\n",
    "driver = webdriver.Chrome()\n",
    "driver.get(page)\n",
    "urls_collected = []\n",
    "count = 0\n",
    "for i in  range(6):\n",
    "    num = 1\n",
    "    elements = driver.find_elements_by_xpath(\"//table[@class = 'mdetails']//td/a\") \n",
    "    for element in elements:\n",
    "        if(num%2 != 0):\n",
    "            url = element.get_attribute(\"href\")\n",
    "            urls_collected.append(url)\n",
    "            count+=1\n",
    "        num+=1\n",
    "    try:\n",
    "        driver.find_element_by_link_text(str(i+1)).click()\n",
    "    except:\n",
    "        print(count)\n",
    "print(urls_collected)"
   ]
  },
  {
   "cell_type": "code",
   "execution_count": null,
   "metadata": {},
   "outputs": [],
   "source": [
    "data = {\n",
    "    'Name' : [],\n",
    "    'Movie' : [],\n",
    "    'Lyrics' : [],\n",
    "}"
   ]
  },
  {
   "cell_type": "code",
   "execution_count": 25,
   "metadata": {
    "scrolled": true
   },
   "outputs": [
    {
     "ename": "AttributeError",
     "evalue": "'list' object has no attribute 'text'",
     "output_type": "error",
     "traceback": [
      "\u001b[1;31m---------------------------------------------------------------------------\u001b[0m",
      "\u001b[1;31mAttributeError\u001b[0m                            Traceback (most recent call last)",
      "\u001b[1;32m<ipython-input-25-85ffeaea36ed>\u001b[0m in \u001b[0;36m<module>\u001b[1;34m\u001b[0m\n\u001b[0;32m      8\u001b[0m     \u001b[0mdriver2\u001b[0m\u001b[1;33m.\u001b[0m\u001b[0mrefresh\u001b[0m\u001b[1;33m(\u001b[0m\u001b[1;33m)\u001b[0m\u001b[1;33m\u001b[0m\u001b[1;33m\u001b[0m\u001b[0m\n\u001b[0;32m      9\u001b[0m \u001b[0msleep\u001b[0m\u001b[1;33m(\u001b[0m\u001b[0mrandint\u001b[0m\u001b[1;33m(\u001b[0m\u001b[1;36m5\u001b[0m\u001b[1;33m,\u001b[0m\u001b[1;36m10\u001b[0m\u001b[1;33m)\u001b[0m\u001b[1;33m)\u001b[0m\u001b[1;33m\u001b[0m\u001b[1;33m\u001b[0m\u001b[0m\n\u001b[1;32m---> 10\u001b[1;33m \u001b[0mname\u001b[0m \u001b[1;33m=\u001b[0m \u001b[0mdriver2\u001b[0m\u001b[1;33m.\u001b[0m\u001b[0mfind_elements_by_xpath\u001b[0m\u001b[1;33m(\u001b[0m\u001b[1;34m\"//table[@class = 'mdetails']/tbody/tr/td[1]\"\u001b[0m\u001b[1;33m)\u001b[0m\u001b[1;33m.\u001b[0m\u001b[0mtext\u001b[0m\u001b[1;33m\u001b[0m\u001b[1;33m\u001b[0m\u001b[0m\n\u001b[0m\u001b[0;32m     11\u001b[0m \u001b[0mprint\u001b[0m\u001b[1;33m(\u001b[0m\u001b[0mname\u001b[0m\u001b[1;33m)\u001b[0m\u001b[1;33m\u001b[0m\u001b[1;33m\u001b[0m\u001b[0m\n",
      "\u001b[1;31mAttributeError\u001b[0m: 'list' object has no attribute 'text'"
     ]
    }
   ],
   "source": [
    "url2 = urls_collected[0]\n",
    "driver2 = webdriver.Chrome()\n",
    "driver2.get(url2)  \n",
    "sleep(randint(5,10))\n",
    "try:\n",
    "    res_name = driver2.find_element_by_id('tbllyrics').text\n",
    "except:\n",
    "    driver2.refresh()\n",
    "sleep(randint(5,10))\n",
    "name = driver2.find_elements_by_xpath(\"//table[@class = 'mdetails']/tbody/tr/td[1]\").text\n",
    "print(name)"
   ]
  },
  {
   "cell_type": "code",
   "execution_count": null,
   "metadata": {},
   "outputs": [],
   "source": []
  }
 ],
 "metadata": {
  "kernelspec": {
   "display_name": "Python 3",
   "language": "python",
   "name": "python3"
  },
  "language_info": {
   "codemirror_mode": {
    "name": "ipython",
    "version": 3
   },
   "file_extension": ".py",
   "mimetype": "text/x-python",
   "name": "python",
   "nbconvert_exporter": "python",
   "pygments_lexer": "ipython3",
   "version": "3.8.5"
  }
 },
 "nbformat": 4,
 "nbformat_minor": 4
}
